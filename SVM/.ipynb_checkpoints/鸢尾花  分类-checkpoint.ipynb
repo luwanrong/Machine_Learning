{
 "cells": [
  {
   "cell_type": "code",
   "execution_count": 2,
   "metadata": {},
   "outputs": [],
   "source": [
    "import numpy as np\n",
    "import pandas as pd\n",
    "import matplotlib as mpl\n",
    "import matplotlib.pyplot as plt\n",
    "import warnings\n",
    "\n",
    "from sklearn import svm\n",
    "from sklearn.model_selection import train_test_split\n",
    "from sklearn.metrics import accuracy_score\n",
    "from sklearn.exceptions import ChangedBehaviorWarning"
   ]
  },
  {
   "cell_type": "code",
   "execution_count": 3,
   "metadata": {},
   "outputs": [],
   "source": [
    "## 设置属性防止中文乱码\n",
    "mpl.rcParams['font.sans-serif'] = [u'SimHei']\n",
    "mpl.rcParams['axes.unicode_minus'] = False"
   ]
  },
  {
   "cell_type": "code",
   "execution_count": 23,
   "metadata": {},
   "outputs": [],
   "source": [
    "warnings.filterwarnings('ignore', category=ChangedBehaviorWarning)"
   ]
  },
  {
   "cell_type": "code",
   "execution_count": 42,
   "metadata": {},
   "outputs": [
    {
     "data": {
      "text/html": [
       "<div>\n",
       "<style scoped>\n",
       "    .dataframe tbody tr th:only-of-type {\n",
       "        vertical-align: middle;\n",
       "    }\n",
       "\n",
       "    .dataframe tbody tr th {\n",
       "        vertical-align: top;\n",
       "    }\n",
       "\n",
       "    .dataframe thead th {\n",
       "        text-align: right;\n",
       "    }\n",
       "</style>\n",
       "<table border=\"1\" class=\"dataframe\">\n",
       "  <thead>\n",
       "    <tr style=\"text-align: right;\">\n",
       "      <th></th>\n",
       "      <th>0</th>\n",
       "      <th>1</th>\n",
       "      <th>2</th>\n",
       "      <th>3</th>\n",
       "      <th>4</th>\n",
       "    </tr>\n",
       "  </thead>\n",
       "  <tbody>\n",
       "    <tr>\n",
       "      <th>0</th>\n",
       "      <td>5.1</td>\n",
       "      <td>3.5</td>\n",
       "      <td>1.4</td>\n",
       "      <td>0.2</td>\n",
       "      <td>Iris-setosa</td>\n",
       "    </tr>\n",
       "    <tr>\n",
       "      <th>1</th>\n",
       "      <td>4.9</td>\n",
       "      <td>3.0</td>\n",
       "      <td>1.4</td>\n",
       "      <td>0.2</td>\n",
       "      <td>Iris-setosa</td>\n",
       "    </tr>\n",
       "    <tr>\n",
       "      <th>2</th>\n",
       "      <td>4.7</td>\n",
       "      <td>3.2</td>\n",
       "      <td>1.3</td>\n",
       "      <td>0.2</td>\n",
       "      <td>Iris-setosa</td>\n",
       "    </tr>\n",
       "    <tr>\n",
       "      <th>3</th>\n",
       "      <td>4.6</td>\n",
       "      <td>3.1</td>\n",
       "      <td>1.5</td>\n",
       "      <td>0.2</td>\n",
       "      <td>Iris-setosa</td>\n",
       "    </tr>\n",
       "    <tr>\n",
       "      <th>4</th>\n",
       "      <td>5.0</td>\n",
       "      <td>3.6</td>\n",
       "      <td>1.4</td>\n",
       "      <td>0.2</td>\n",
       "      <td>Iris-setosa</td>\n",
       "    </tr>\n",
       "  </tbody>\n",
       "</table>\n",
       "</div>"
      ],
      "text/plain": [
       "     0    1    2    3            4\n",
       "0  5.1  3.5  1.4  0.2  Iris-setosa\n",
       "1  4.9  3.0  1.4  0.2  Iris-setosa\n",
       "2  4.7  3.2  1.3  0.2  Iris-setosa\n",
       "3  4.6  3.1  1.5  0.2  Iris-setosa\n",
       "4  5.0  3.6  1.4  0.2  Iris-setosa"
      ]
     },
     "execution_count": 42,
     "metadata": {},
     "output_type": "execute_result"
    }
   ],
   "source": [
    "df = pd.read_csv('datas/iris.data',header = None)\n",
    "df.head()\n",
    "x ,y = df.iloc[:,:4],df[4]\n",
    "y = pd.Categorical(y).codes# 将文本转换为数值\n",
    "x = x[[0,1]]\n",
    "df.head()"
   ]
  },
  {
   "cell_type": "code",
   "execution_count": 60,
   "metadata": {},
   "outputs": [
    {
     "name": "stderr",
     "output_type": "stream",
     "text": [
      "C:\\Users\\Administrator\\Anaconda3\\lib\\site-packages\\sklearn\\model_selection\\_split.py:2026: FutureWarning: From version 0.21, test_size will always complement train_size unless both are specified.\n",
      "  FutureWarning)\n"
     ]
    }
   ],
   "source": [
    "x_train, x_test, y_train, y_test = train_test_split(x, y,train_size=0.8,random_state=0)"
   ]
  },
  {
   "cell_type": "code",
   "execution_count": 61,
   "metadata": {},
   "outputs": [
    {
     "data": {
      "text/plain": [
       "SVC(C=1, cache_size=200, class_weight=None, coef0=0.0,\n",
       "  decision_function_shape='ovr', degree=3, gamma=0.1, kernel='rbf',\n",
       "  max_iter=-1, probability=False, random_state=None, shrinking=True,\n",
       "  tol=0.001, verbose=False)"
      ]
     },
     "execution_count": 61,
     "metadata": {},
     "output_type": "execute_result"
    }
   ],
   "source": [
    "clf = svm.SVC(C = 1,kernel='rbf',gamma=0.1)\n",
    "clf.fit(x_train,y_train)"
   ]
  },
  {
   "cell_type": "code",
   "execution_count": 62,
   "metadata": {},
   "outputs": [],
   "source": [
    "y_pre = clf.predict(x_test)"
   ]
  },
  {
   "cell_type": "code",
   "execution_count": 63,
   "metadata": {},
   "outputs": [
    {
     "name": "stdout",
     "output_type": "stream",
     "text": [
      "0.85\n",
      "0.85\n"
     ]
    }
   ],
   "source": [
    "print(clf.score(x_train,y_train))\n",
    "print(accuracy_score(y_train,clf.predict(x_train)))#要这个函数何用？？？？"
   ]
  },
  {
   "cell_type": "code",
   "execution_count": 64,
   "metadata": {},
   "outputs": [
    {
     "name": "stdout",
     "output_type": "stream",
     "text": [
      "测试集准确率： 0.7333333333333333\n"
     ]
    }
   ],
   "source": [
    "print('测试集准确率：',clf.score(x_test,y_test))"
   ]
  },
  {
   "cell_type": "code",
   "execution_count": 65,
   "metadata": {},
   "outputs": [
    {
     "name": "stdout",
     "output_type": "stream",
     "text": [
      "[[-0.25039727  1.0886331   2.16176417]\n",
      " [ 1.03478736  2.11650098 -0.15128834]\n",
      " [ 2.23214438  1.00598335 -0.23812773]\n",
      " [-0.19163546  2.1175139   1.07412155]\n",
      " [-0.32152579  1.14496276  2.17656303]\n",
      " [ 1.02173467  2.16988825 -0.19162293]\n",
      " [ 2.14580325  0.95677746 -0.10258071]\n",
      " [-0.23566638  2.17796366  1.05770273]\n",
      " [-0.13008471  2.12075927  1.00932543]\n",
      " [-0.19844194  2.1995431   0.99889884]\n",
      " [-0.36343522  1.08701831  2.27641692]\n",
      " [ 2.30535715  1.04393285 -0.34929   ]\n",
      " [-0.35915878  1.06384614  2.29531264]\n",
      " [ 2.29333629  0.99860275 -0.29193904]\n",
      " [ 2.21795456  0.97111601 -0.18907056]\n",
      " [ 0.92054508  2.2724345  -0.19297958]\n",
      " [-0.2997012   1.10328323  2.19641797]\n",
      " [-0.2730624   1.03890272  2.23415968]\n",
      " [-0.33839217  2.26132199  1.07707018]\n",
      " [-0.44273262  1.17653689  2.26619573]\n",
      " [-0.15877661  2.21746358  0.94131303]\n",
      " [-0.44724083  1.02472152  2.42251931]\n",
      " [-0.17202518  1.05287918  2.119146  ]\n",
      " [-0.14988387  2.23343312  0.91645074]\n",
      " [-0.31861821  1.16774019  2.15087802]\n",
      " [-0.29622421  1.14950193  2.14672228]\n",
      " [ 1.0664275   2.1904298  -0.2568573 ]\n",
      " [-0.35991183  1.20227659  2.15763525]\n",
      " [-0.35330602  1.04124945  2.31205657]\n",
      " [-0.2997012   1.10328323  2.19641797]\n",
      " [-0.05522314  2.03779287  1.01743027]\n",
      " [ 2.25203496  1.06973396 -0.32176891]\n",
      " [-0.17449621  2.18085941  0.9936368 ]\n",
      " [-0.11021164  2.18046075  0.92975089]\n",
      " [-0.05865155  2.14084287  0.91780868]\n",
      " [-0.12662311  2.21612151  0.9105016 ]\n",
      " [-0.19163546  2.1175139   1.07412155]\n",
      " [-0.38070881  1.0296007   2.35110811]\n",
      " [ 2.24957743  0.96861839 -0.21819582]\n",
      " [ 2.35477694  1.05478502 -0.40956196]\n",
      " [-0.34332437  1.16288782  2.18043655]\n",
      " [-0.06527735  2.12119172  0.94408563]\n",
      " [ 2.14185505  1.03254567 -0.17440072]\n",
      " [ 2.27389225  0.85571723 -0.12960948]\n",
      " [-0.35915878  1.06384614  2.29531264]\n",
      " [ 2.30724951  1.05732668 -0.3645762 ]\n",
      " [-0.13008471  2.12075927  1.00932543]\n",
      " [ 1.00329378  2.20214884 -0.20544262]\n",
      " [ 2.37889994  0.99914274 -0.37804268]\n",
      " [-0.38865303  2.25320429  1.13544874]\n",
      " [-0.29145938  0.96854255  2.32291684]\n",
      " [-0.09164014  2.14161983  0.95002031]\n",
      " [ 2.22623117  1.08968182 -0.31591299]\n",
      " [-0.4096892   1.06746523  2.34222397]\n",
      " [-0.33660296  1.0467762   2.28982676]\n",
      " [-0.2997012   1.10328323  2.19641797]\n",
      " [-0.32152579  1.14496276  2.17656303]\n",
      " [ 2.33278328  0.94341849 -0.27620177]\n",
      " [ 2.32663406  1.00960575 -0.33623981]\n",
      " [-0.25094655  1.06568299  2.18526357]\n",
      " [-0.2730624   1.03890272  2.23415968]\n",
      " [ 2.13304331  1.19108118 -0.32412449]\n",
      " [-0.11663626  1.03526731  2.08136896]\n",
      " [ 2.19635991  1.09554303 -0.29190293]\n",
      " [-0.19042462  2.21791314  0.97251148]\n",
      " [-0.35915878  1.06384614  2.29531264]\n",
      " [ 2.37987847  1.02502782 -0.40490629]\n",
      " [ 2.31697854  0.97865204 -0.29563057]\n",
      " [-0.42101983  1.06048387  2.36053596]\n",
      " [ 2.26321395  1.00248244 -0.26569639]\n",
      " [ 2.3322641   1.06231608 -0.39458018]\n",
      " [ 2.2645061   0.93262533 -0.19713143]\n",
      " [-0.17206568  2.24979256  0.92227312]\n",
      " [-0.31794906  1.05203355  2.2659155 ]\n",
      " [-0.44593685  1.03180134  2.41413551]\n",
      " [ 2.26321395  1.00248244 -0.26569639]\n",
      " [ 2.22247594  1.07534695 -0.29782289]\n",
      " [ 2.20680036  1.02662003 -0.23342039]\n",
      " [-0.11748127  2.16161947  0.9558618 ]\n",
      " [-0.32277435  1.09831759  2.22445676]\n",
      " [ 2.21795026  1.05994599 -0.27789625]\n",
      " [ 2.21270515  1.04364305 -0.2563482 ]\n",
      " [-0.2986835   1.12654041  2.17214309]\n",
      " [ 2.14185505  1.03254567 -0.17440072]\n",
      " [-0.5         1.07338601  2.42661399]\n",
      " [ 1.0415998   2.20742886 -0.24902865]\n",
      " [-0.30569708  0.92274296  2.38295412]\n",
      " [-0.32111039  1.07499685  2.24611354]\n",
      " [ 2.36439692  0.89257767 -0.25697458]\n",
      " [-0.1613555   2.11948124  1.04187426]\n",
      " [ 2.161655    0.92086513 -0.08252013]\n",
      " [-0.47608835  1.04954709  2.42654126]\n",
      " [ 2.33278328  0.94341849 -0.27620177]\n",
      " [ 2.30535715  1.04393285 -0.34929   ]\n",
      " [-0.47075253  1.07424442  2.39650811]\n",
      " [ 2.24367895  1.03936622 -0.28304517]\n",
      " [-0.14575094  1.03325696  2.11249398]\n",
      " [-0.11748127  2.16161947  0.9558618 ]\n",
      " [-0.17449621  2.18085941  0.9936368 ]\n",
      " [-0.16701198  2.19987473  0.96713725]\n",
      " [-0.22523374  1.06936924  2.1558645 ]\n",
      " [-0.34404723  1.09287868  2.25116855]\n",
      " [-0.35991183  1.20227659  2.15763525]\n",
      " [-0.34404723  1.09287868  2.25116855]\n",
      " [ 2.16544172  1.10090524 -0.26634696]\n",
      " [-0.14988387  2.23343312  0.91645074]\n",
      " [-0.32111039  1.07499685  2.24611354]\n",
      " [-0.17449621  2.18085941  0.9936368 ]\n",
      " [ 2.23827935  1.02296045 -0.2612398 ]\n",
      " [-0.34541291  1.11637043  2.22904248]\n",
      " [ 0.96788879  2.12033521 -0.088224  ]\n",
      " [-0.07704422  2.07965201  0.99739221]\n",
      " [-0.3958175   1.23359604  2.16222145]\n",
      " [ 2.13504156  1.01391343 -0.14895499]\n",
      " [ 2.31059852  0.96260146 -0.27319998]\n",
      " [ 2.22247594  1.07534695 -0.29782289]\n",
      " [-0.27283046  1.13075432  2.14207614]\n",
      " [-0.17449621  2.18085941  0.9936368 ]\n",
      " [-0.29717239  0.92710063  2.37007176]\n",
      " [ 2.33180515  1.03788212 -0.36968728]]\n"
     ]
    }
   ],
   "source": [
    "print(clf.decision_function(x_train))"
   ]
  },
  {
   "cell_type": "code",
   "execution_count": 66,
   "metadata": {},
   "outputs": [
    {
     "data": {
      "image/png": "[encoded data removed]",
      "text/plain": [
       "<Figure size 432x288 with 1 Axes>"
      ]
     },
     "metadata": {},
     "output_type": "display_data"
    }
   ],
   "source": [
    "# 画图\n",
    "N = 500\n",
    "x1_min, x2_min = x.min()\n",
    "x1_max, x2_max = x.max()\n",
    "\n",
    "t1 = np.linspace(x1_min, x1_max, N)\n",
    "t2 = np.linspace(x2_min, x2_max, N)\n",
    "x1, x2 = np.meshgrid(t1, t2)  # 生成网格采样点\n",
    "grid_show = np.dstack((x1.flat, x2.flat))[0] # 测试点\n",
    "\n",
    "\n",
    "grid_hat = clf.predict(grid_show)       # 预测分类值\n",
    "grid_hat = grid_hat.reshape(x1.shape)  # 使之与输入的形状相同\n",
    "\n",
    "cm_light = mpl.colors.ListedColormap(['#00FFCC', '#FFA0A0', '#A0A0FF'])\n",
    "cm_dark = mpl.colors.ListedColormap(['g', 'r', 'b'])\n",
    "plt.figure(facecolor='w')\n",
    "## 区域图\n",
    "plt.pcolormesh(x1, x2, grid_hat, cmap=cm_light)\n",
    "#plt.scatter(x[0], x[1], c=y, edgecolors='k', s=50, cmap=cm_dark)\n",
    "\n",
    "plt.scatter(x_test[0], x_test[1],c = y_pre, s=120, cmap=cm_dark, zorder=10) \n",
    "\n",
    "plt.xlabel('特征1', fontsize=13)\n",
    "plt.ylabel('特征2', fontsize=13)\n",
    "plt.xlim(x1_min, x1_max)\n",
    "plt.ylim(x2_min, x2_max)\n",
    "plt.title(u'鸢尾花SVM特征分类', fontsize=16)\n",
    "plt.grid(b=True, ls=':')\n",
    "plt.tight_layout(pad=1.5)\n",
    "plt.show()"
   ]
  },
  {
   "cell_type": "code",
   "execution_count": null,
   "metadata": {},
   "outputs": [],
   "source": []
  },
  {
   "cell_type": "code",
   "execution_count": 68,
   "metadata": {},
   "outputs": [],
   "source": []
  },
  {
   "cell_type": "code",
   "execution_count": null,
   "metadata": {},
   "outputs": [],
   "source": []
  }
 ],
 "metadata": {
  "kernelspec": {
   "display_name": "Python 3",
   "language": "python",
   "name": "python3"
  },
  "language_info": {
   "codemirror_mode": {
    "name": "ipython",
    "version": 3
   },
   "file_extension": ".py",
   "mimetype": "text/x-python",
   "name": "python",
   "nbconvert_exporter": "python",
   "pygments_lexer": "ipython3",
   "version": "3.6.5"
  }
 },
 "nbformat": 4,
 "nbformat_minor": 2
}
