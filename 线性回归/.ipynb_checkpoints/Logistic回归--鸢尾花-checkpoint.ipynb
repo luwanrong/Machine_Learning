{
 "cells": [
  {
   "cell_type": "code",
   "execution_count": 62,
   "metadata": {},
   "outputs": [],
   "source": [
    "import numpy as np\n",
    "import pandas as pd\n",
    "import matplotlib as mpl\n",
    "import matplotlib.pyplot as plt\n",
    "import warnings\n",
    "\n",
    "import sklearn\n",
    "from sklearn.model_selection import train_test_split\n",
    "from sklearn.preprocessing import StandardScaler\n",
    "from sklearn.linear_model import LogisticRegression\n",
    "from  sklearn.linear_model  import  LogisticRegressionCV "
   ]
  },
  {
   "cell_type": "code",
   "execution_count": 61,
   "metadata": {},
   "outputs": [],
   "source": [
    "## 设置字符集，防止中文乱码\n",
    "mpl.rcParams['font.sans-serif']=[u'simHei']\n",
    "mpl.rcParams['axes.unicode_minus']=False"
   ]
  },
  {
   "cell_type": "code",
   "execution_count": 29,
   "metadata": {},
   "outputs": [
    {
     "data": {
      "text/plain": [
       "Iris-setosa        50\n",
       "Iris-virginica     50\n",
       "Iris-versicolor    50\n",
       "Name: cla, dtype: int64"
      ]
     },
     "execution_count": 29,
     "metadata": {},
     "output_type": "execute_result"
    }
   ],
   "source": [
    "#加载数据\n",
    "path = \"data/iris.data\"\n",
    "names = ['sepal length', 'sepal width', 'petal length', 'petal width', 'cla']\n",
    "df = pd.read_csv(path, header=None, names=names)\n",
    "df['cla'].value_counts()#统计 各值数量"
   ]
  },
  {
   "cell_type": "code",
   "execution_count": 30,
   "metadata": {},
   "outputs": [],
   "source": [
    "# 将df列中的  str  替换为  int/float \n",
    "size_mapping = {\n",
    "           'Iris-setosa': 1.0,\n",
    "           'Iris-versicolor': 2.0,\n",
    "           'Iris-virginica': 3.0}\n",
    "df['cla'] = df['cla'].map(size_mapping)"
   ]
  },
  {
   "cell_type": "code",
   "execution_count": 31,
   "metadata": {},
   "outputs": [
    {
     "name": "stdout",
     "output_type": "stream",
     "text": [
      "<class 'pandas.core.frame.DataFrame'>\n",
      "RangeIndex: 150 entries, 0 to 149\n",
      "Data columns (total 5 columns):\n",
      "sepal length    150 non-null float64\n",
      "sepal width     150 non-null float64\n",
      "petal length    150 non-null float64\n",
      "petal width     150 non-null float64\n",
      "cla             150 non-null float64\n",
      "dtypes: float64(5)\n",
      "memory usage: 5.9 KB\n"
     ]
    }
   ],
   "source": [
    "df.info()"
   ]
  },
  {
   "cell_type": "code",
   "execution_count": 34,
   "metadata": {},
   "outputs": [],
   "source": [
    "#数据清洗\n",
    "df = df.dropna()#将存在缺失值的整行都删除，默认删除整行 整列 axis= ‘columns’ \n",
    "#how = 'all' 表示删除全部是缺失值的行列，how = 'any'表示 只要有缺失值就删除整列 行"
   ]
  },
  {
   "cell_type": "code",
   "execution_count": 71,
   "metadata": {},
   "outputs": [
    {
     "data": {
      "text/html": [
       "<div>\n",
       "<style scoped>\n",
       "    .dataframe tbody tr th:only-of-type {\n",
       "        vertical-align: middle;\n",
       "    }\n",
       "\n",
       "    .dataframe tbody tr th {\n",
       "        vertical-align: top;\n",
       "    }\n",
       "\n",
       "    .dataframe thead th {\n",
       "        text-align: right;\n",
       "    }\n",
       "</style>\n",
       "<table border=\"1\" class=\"dataframe\">\n",
       "  <thead>\n",
       "    <tr style=\"text-align: right;\">\n",
       "      <th></th>\n",
       "      <th>0</th>\n",
       "      <th>1</th>\n",
       "      <th>2</th>\n",
       "      <th>3</th>\n",
       "    </tr>\n",
       "  </thead>\n",
       "  <tbody>\n",
       "    <tr>\n",
       "      <th>count</th>\n",
       "      <td>9.000000e+01</td>\n",
       "      <td>9.000000e+01</td>\n",
       "      <td>9.000000e+01</td>\n",
       "      <td>9.000000e+01</td>\n",
       "    </tr>\n",
       "    <tr>\n",
       "      <th>mean</th>\n",
       "      <td>-1.606123e-15</td>\n",
       "      <td>-4.277443e-16</td>\n",
       "      <td>1.801028e-16</td>\n",
       "      <td>-2.738550e-16</td>\n",
       "    </tr>\n",
       "    <tr>\n",
       "      <th>std</th>\n",
       "      <td>1.005602e+00</td>\n",
       "      <td>1.005602e+00</td>\n",
       "      <td>1.005602e+00</td>\n",
       "      <td>1.005602e+00</td>\n",
       "    </tr>\n",
       "    <tr>\n",
       "      <th>min</th>\n",
       "      <td>-1.739059e+00</td>\n",
       "      <td>-2.112204e+00</td>\n",
       "      <td>-1.372313e+00</td>\n",
       "      <td>-1.316850e+00</td>\n",
       "    </tr>\n",
       "    <tr>\n",
       "      <th>25%</th>\n",
       "      <td>-8.349996e-01</td>\n",
       "      <td>-6.417648e-01</td>\n",
       "      <td>-1.157142e+00</td>\n",
       "      <td>-1.191832e+00</td>\n",
       "    </tr>\n",
       "    <tr>\n",
       "      <th>50%</th>\n",
       "      <td>-1.569548e-01</td>\n",
       "      <td>-1.124069e-01</td>\n",
       "      <td>2.683660e-01</td>\n",
       "      <td>1.833588e-01</td>\n",
       "    </tr>\n",
       "    <tr>\n",
       "      <th>75%</th>\n",
       "      <td>7.188530e-01</td>\n",
       "      <td>7.110388e-01</td>\n",
       "      <td>8.197416e-01</td>\n",
       "      <td>9.334630e-01</td>\n",
       "    </tr>\n",
       "    <tr>\n",
       "      <th>max</th>\n",
       "      <td>2.329209e+00</td>\n",
       "      <td>3.063741e+00</td>\n",
       "      <td>1.747666e+00</td>\n",
       "      <td>1.683567e+00</td>\n",
       "    </tr>\n",
       "  </tbody>\n",
       "</table>\n",
       "</div>"
      ],
      "text/plain": [
       "                  0             1             2             3\n",
       "count  9.000000e+01  9.000000e+01  9.000000e+01  9.000000e+01\n",
       "mean  -1.606123e-15 -4.277443e-16  1.801028e-16 -2.738550e-16\n",
       "std    1.005602e+00  1.005602e+00  1.005602e+00  1.005602e+00\n",
       "min   -1.739059e+00 -2.112204e+00 -1.372313e+00 -1.316850e+00\n",
       "25%   -8.349996e-01 -6.417648e-01 -1.157142e+00 -1.191832e+00\n",
       "50%   -1.569548e-01 -1.124069e-01  2.683660e-01  1.833588e-01\n",
       "75%    7.188530e-01  7.110388e-01  8.197416e-01  9.334630e-01\n",
       "max    2.329209e+00  3.063741e+00  1.747666e+00  1.683567e+00"
      ]
     },
     "execution_count": 71,
     "metadata": {},
     "output_type": "execute_result"
    }
   ],
   "source": [
    "X = df.iloc[:,0:4]\n",
    "Y = df['cla']\n",
    "\n",
    "#数据分割\n",
    "X_train,X_test,Y_train,Y_test = train_test_split(X,Y,test_size = 0.4,random_state = 0)\n",
    "#数据标准化\n",
    "ss = StandardScaler()\n",
    "X_train = ss.fit_transform(X_train)\n",
    "X_test = ss.transform(X_test)\n",
    "pd.DataFrame(X_train).describe()"
   ]
  },
  {
   "cell_type": "code",
   "execution_count": 72,
   "metadata": {},
   "outputs": [],
   "source": [
    "# 创建模型\n",
    "lr = LogisticRegression(solver='newton-cg', multi_class='multinomial')\n",
    "#默认参数选择penalty=’l2’  l1正则  \n",
    "#solver =s tr，{'newton-cg'，'lbfgs'，'liblinear'，'sag'，'saga'}，默认：'liblinear'\n",
    "#multi_class ： str，{'ovr'，'multinomial'，'auto'}，默认值：'ovr' 二元逻辑回归   多元逻辑回归\n",
    "lr.fit(X_train,Y_train)\n",
    "Y_predict = lr.predict(X_test)\n",
    "r = lr.score(X_test,Y_test)"
   ]
  },
  {
   "cell_type": "code",
   "execution_count": 73,
   "metadata": {},
   "outputs": [
    {
     "data": {
      "image/png": "[encoded data removed]",
      "text/plain": [
       "<Figure size 576x432 with 1 Axes>"
      ]
     },
     "metadata": {},
     "output_type": "display_data"
    }
   ],
   "source": [
    "plt.figure(figsize=(8, 6), facecolor='w')\n",
    "x = np.arange(len(X_test))\n",
    "plt.plot(x,Y_test,'yo',markersize = 6,zorder=2,label=u'实际值')\n",
    "plt.plot(x,Y_predict,'ro',markersize = 16,zorder=1,label=u'预测值$R2$=%.3f' % r)\n",
    "plt.legend(loc = 'right')\n",
    "plt.show()"
   ]
  },
  {
   "cell_type": "code",
   "execution_count": 74,
   "metadata": {},
   "outputs": [
    {
     "data": {
      "image/png": "[encoded data removed]",
      "text/plain": [
       "<Figure size 576x432 with 1 Axes>"
      ]
     },
     "metadata": {},
     "output_type": "display_data"
    }
   ],
   "source": [
    "# use LogisticRegressionCV\n",
    "#创建模型\n",
    "lrcv= LogisticRegressionCV(Cs = np.logspace(-4,1,50),cv = 5,solver='lbfgs', multi_class='multinomial')\n",
    "lrcv.fit(X_train,Y_train)\n",
    "y_predict = lrcv.predict(X_test)\n",
    "plt.figure(figsize=(8, 6), facecolor='w')\n",
    "x = np.arange(len(X_test))\n",
    "plt.plot(x,Y_test,'yo',markersize = 6,zorder=2,label=u'实际值')\n",
    "plt.plot(x,y_predict,'ro',markersize = 16,zorder=1,label=u'预测值$R2$=%.3f' % lrcv.score(X_test,Y_test))\n",
    "plt.legend(loc = 'right')\n",
    "plt.show()"
   ]
  },
  {
   "cell_type": "code",
   "execution_count": null,
   "metadata": {},
   "outputs": [],
   "source": []
  }
 ],
 "metadata": {
  "kernelspec": {
   "display_name": "Python 3",
   "language": "python",
   "name": "python3"
  },
  "language_info": {
   "codemirror_mode": {
    "name": "ipython",
    "version": 3
   },
   "file_extension": ".py",
   "mimetype": "text/x-python",
   "name": "python",
   "nbconvert_exporter": "python",
   "pygments_lexer": "ipython3",
   "version": "3.6.5"
  }
 },
 "nbformat": 4,
 "nbformat_minor": 2
}
