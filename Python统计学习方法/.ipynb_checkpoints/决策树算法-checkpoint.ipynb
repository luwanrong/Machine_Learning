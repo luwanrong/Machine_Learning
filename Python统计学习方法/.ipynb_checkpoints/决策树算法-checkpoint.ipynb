{
 "cells": [
  {
   "cell_type": "code",
   "execution_count": 235,
   "metadata": {},
   "outputs": [],
   "source": [
    "import numpy as np\n",
    "import pandas as pd\n",
    "from math import log"
   ]
  },
  {
   "cell_type": "code",
   "execution_count": 236,
   "metadata": {},
   "outputs": [],
   "source": [
    "def createDataSet1():    # 创造示例数据\n",
    "    datasets = [['青年', '否', '否', '一般', '否'],\n",
    "               ['青年', '否', '否', '好', '否'],\n",
    "               ['青年', '是', '否', '好', '是'],\n",
    "               ['青年', '是', '是', '一般', '是'],\n",
    "               ['青年', '否', '否', '一般', '否'],\n",
    "               ['中年', '否', '否', '一般', '否'],\n",
    "               ['中年', '否', '否', '好', '否'],\n",
    "               ['中年', '是', '是', '好', '是'],\n",
    "               ['中年', '否', '是', '非常好', '是'],\n",
    "               ['中年', '否', '是', '非常好', '是'],\n",
    "               ['老年', '否', '是', '非常好', '是'],\n",
    "               ['老年', '否', '是', '好', '是'],\n",
    "               ['老年', '是', '否', '好', '是'],\n",
    "               ['老年', '是', '否', '非常好', '是'],\n",
    "               ['老年', '否', '否', '一般', '否'],\n",
    "               ]\n",
    "    labels = [u'年龄', u'有工作', u'有自己的房子', u'信贷情况', u'类别']\n",
    "    return datasets,labels"
   ]
  },
  {
   "cell_type": "code",
   "execution_count": 237,
   "metadata": {},
   "outputs": [],
   "source": [
    "def calcEntory(dataSet):  # 计算数据的熵(entropy)\n",
    "    num = len(dataSet)  # 数据条数\n",
    "    labelCounts = []\n",
    "    for featVec in dataSet:\n",
    "        currentLabel = featVec[-1] # 每行数据的最后一个字（类别）\n",
    "        labelCounts.append(currentLabel)\n",
    "    \n",
    "    labelCounts =pd.Categorical(labelCounts).codes#文字类别数值化\n",
    "    labelClass = list(np.unique(labelCounts))#查看有几种类别\n",
    "    entorpy = 0\n",
    "    for i in labelClass:#遍历每一个类别\n",
    "        label_sum = np.sum(np.equal(labelCounts,i))#找出当前‘i’这个类别的总数\n",
    "        \n",
    "        entorpy =  entorpy +(- (label_sum / float(num))*log(label_sum / float(num),2))    \n",
    "            \n",
    "    return entorpy"
   ]
  },
  {
   "cell_type": "code",
   "execution_count": 238,
   "metadata": {},
   "outputs": [],
   "source": [
    "def calculate(par):\n",
    "    if par == 0:\n",
    "        return 0\n",
    "    else:\n",
    "        return par*np.log2(par)"
   ]
  },
  {
   "cell_type": "code",
   "execution_count": 239,
   "metadata": {},
   "outputs": [
    {
     "data": {
      "text/plain": [
       "array([['青年', '青年', '青年', '青年', '青年', '中年', '中年', '中年', '中年', '中年', '老年',\n",
       "        '老年', '老年', '老年', '老年'],\n",
       "       ['否', '否', '是', '是', '否', '否', '否', '是', '否', '否', '否', '否', '是',\n",
       "        '是', '否'],\n",
       "       ['否', '否', '否', '是', '否', '否', '否', '是', '是', '是', '是', '是', '否',\n",
       "        '否', '否'],\n",
       "       ['一般', '好', '好', '一般', '一般', '一般', '好', '好', '非常好', '非常好', '非常好',\n",
       "        '好', '好', '非常好', '一般'],\n",
       "       ['否', '否', '是', '是', '否', '否', '否', '是', '是', '是', '是', '是', '是',\n",
       "        '是', '否']], dtype='<U3')"
      ]
     },
     "execution_count": 239,
     "metadata": {},
     "output_type": "execute_result"
    }
   ],
   "source": [
    "dataSet,labels= createDataSet1()\n",
    "np.array(dataSet).T"
   ]
  },
  {
   "cell_type": "code",
   "execution_count": 240,
   "metadata": {},
   "outputs": [
    {
     "data": {
      "text/plain": [
       "['年龄', '有工作', '有自己的房子', '信贷情况', '类别']"
      ]
     },
     "execution_count": 240,
     "metadata": {},
     "output_type": "execute_result"
    }
   ],
   "source": [
    "labels"
   ]
  },
  {
   "cell_type": "code",
   "execution_count": 241,
   "metadata": {},
   "outputs": [],
   "source": [
    "def BestFeature(data):\n",
    "    data = np.array(data).T\n",
    "    #特征/属性数目\n",
    "    data_num = len(data[0])\n",
    "    Entorpy = {}\n",
    "    feature_num = len(data)-1\n",
    "    labels = np.unique(data[-1])#[0,1]\n",
    "    labels_index = []\n",
    "    for v in labels:\n",
    "        label_index = [i for i,label in enumerate(data[-1]) if label == v]#得到某一个类别的所有索引\n",
    "        labels_index.append(label_index)\n",
    "    #print('各类别索引',labels_index)\n",
    "    for f in range(feature_num):#遍历特征，处理特征，目的：找出特征中各取值的比例\n",
    "        pkey = '特征'+ str(f)\n",
    "        Entorpy[pkey] = 0\n",
    "        feature_class = np.unique(data[f])\n",
    "        #print('第',f,'个特征',feature_class)\n",
    "        for j in feature_class:\n",
    "            feature_index = [i for i,value in enumerate(data[f]) if value == j]\n",
    "            #print(feature_index)\n",
    "            feature_index_num = len(feature_index)\n",
    "            temp = -feature_index_num / float(data_num)\n",
    "            \n",
    "            for s in labels_index:\n",
    "                label_feature_count = len(set(feature_index) & set(s))\n",
    "                \n",
    "                #print(label_feature_count)\n",
    "                par = label_feature_count / float(feature_index_num)\n",
    "                #print('par',par)\n",
    "                Entorpy[pkey] = Entorpy[pkey] + temp*calculate(par)\n",
    "    #print(Entorpy)    \n",
    "    ent = calcEntory(dataSet)\n",
    "    #print(ent)\n",
    "    info_gain = {}\n",
    "    for i,d_value in enumerate(Entorpy.values()):\n",
    "        info_gain[i] = ent - d_value\n",
    "    best_feature_index = max(info_gain, key=info_gain.get)\n",
    "    #print(info_gain)\n",
    "    return best_feature_index"
   ]
  },
  {
   "cell_type": "code",
   "execution_count": 242,
   "metadata": {},
   "outputs": [
    {
     "data": {
      "text/plain": [
       "2"
      ]
     },
     "execution_count": 242,
     "metadata": {},
     "output_type": "execute_result"
    }
   ],
   "source": [
    "BestFeature(dataSet)"
   ]
  },
  {
   "cell_type": "code",
   "execution_count": 243,
   "metadata": {},
   "outputs": [
    {
     "data": {
      "text/plain": [
       "9"
      ]
     },
     "execution_count": 243,
     "metadata": {},
     "output_type": "execute_result"
    }
   ],
   "source": [
    "a = ['否', '否', '是', '是', '否', '否', '否', '是', '是', '是', '是', '是', '是',\n",
    "        '是', '否'] \n",
    "a.count(a[2])"
   ]
  },
  {
   "cell_type": "code",
   "execution_count": 244,
   "metadata": {},
   "outputs": [],
   "source": [
    "def majorityCnt(classList):\n",
    "    classCount=[]\n",
    "    class_ = list(np.unique(classList))\n",
    "    for v in class_:\n",
    "        classCount.append(classList.count(v))\n",
    "    classCount = np.sort(classCount)#从小到大排序\n",
    "    return classCount[-1]"
   ]
  },
  {
   "cell_type": "code",
   "execution_count": 245,
   "metadata": {},
   "outputs": [
    {
     "data": {
      "text/plain": [
       "9"
      ]
     },
     "execution_count": 245,
     "metadata": {},
     "output_type": "execute_result"
    }
   ],
   "source": [
    "majorityCnt(a)"
   ]
  },
  {
   "cell_type": "code",
   "execution_count": 246,
   "metadata": {},
   "outputs": [
    {
     "data": {
      "text/plain": [
       "{'否', '是'}"
      ]
     },
     "execution_count": 246,
     "metadata": {},
     "output_type": "execute_result"
    }
   ],
   "source": [
    "featValues = [example[2] for example in dataSet]\n",
    "uniqueVals = set(featValues)\n",
    "uniqueVals"
   ]
  },
  {
   "cell_type": "code",
   "execution_count": 247,
   "metadata": {},
   "outputs": [],
   "source": [
    "def splitDataSet(dataSet, axis, value): #axis是dataSet数据集下要进行特征划分的列号例如outlook是0列，value是该列下某个特征值，0列中的sunny\n",
    "    retDataSet = []\n",
    "    for featVec in dataSet: #遍历数据集，并抽取按axis的当前value特征进划分的数据集(不包括axis列的值)\n",
    "        if featVec[axis] == value: #\n",
    "            reducedFeatVec = featVec[:axis]     #chop out axis used for splitting\n",
    "            reducedFeatVec.extend(featVec[axis+1:])\n",
    "            retDataSet.append(reducedFeatVec)\n",
    "            # print axis,value,reducedFeatVec\n",
    "    # print retDataSet\n",
    "    return retDataSet"
   ]
  },
  {
   "cell_type": "code",
   "execution_count": 248,
   "metadata": {},
   "outputs": [
    {
     "data": {
      "text/plain": [
       "[['青年', '否', '一般', '否'],\n",
       " ['青年', '否', '好', '否'],\n",
       " ['青年', '是', '好', '是'],\n",
       " ['青年', '否', '一般', '否'],\n",
       " ['中年', '否', '一般', '否'],\n",
       " ['中年', '否', '好', '否'],\n",
       " ['老年', '是', '好', '是'],\n",
       " ['老年', '是', '非常好', '是'],\n",
       " ['老年', '否', '一般', '否']]"
      ]
     },
     "execution_count": 248,
     "metadata": {},
     "output_type": "execute_result"
    }
   ],
   "source": [
    "splitDataSet(dataSet,2,'否')"
   ]
  },
  {
   "cell_type": "code",
   "execution_count": 249,
   "metadata": {},
   "outputs": [
    {
     "data": {
      "text/plain": [
       "[['青年', '是', '一般', '是'],\n",
       " ['中年', '是', '好', '是'],\n",
       " ['中年', '否', '非常好', '是'],\n",
       " ['中年', '否', '非常好', '是'],\n",
       " ['老年', '否', '非常好', '是'],\n",
       " ['老年', '否', '好', '是']]"
      ]
     },
     "execution_count": 249,
     "metadata": {},
     "output_type": "execute_result"
    }
   ],
   "source": [
    "splitDataSet(dataSet,2,'是')"
   ]
  },
  {
   "cell_type": "code",
   "execution_count": 250,
   "metadata": {},
   "outputs": [],
   "source": [
    "def createTree(dataSet,labels):\n",
    "    classList = [example[-1] for example in dataSet] # 返回当前数据集下标签列所有值\n",
    "    if classList.count(classList[0]) == len(classList):\n",
    "        return classList[0]#当类别完全相同时则停止继续划分，直接返回该类的标签\n",
    "    if len(dataSet[0]) == 1: ##遍历完所有的特征时，仍然不能将数据集划分成仅包含唯一类别的分组 dataSet\n",
    "        return majorityCnt(classList) #由于无法简单的返回唯一的类标签，这里就返回出现次数最多的类别作为返回值\n",
    "    bestFeat = BestFeature(dataSet) # 获取最好的分类特征索引\n",
    "    print(bestFeat)\n",
    "    bestFeatLabel = labels[bestFeat] #获取该特征的名字\n",
    "    print(bestFeatLabel)\n",
    "    # 这里直接使用字典变量来存储树信息，这对于绘制树形图很重要。\n",
    "    myTree = {bestFeatLabel:{}} #当前数据集选取最好的特征存储在bestFeat中\n",
    "    del(labels[bestFeat]) #删除已经在选取的特征\n",
    "    featValues = [example[bestFeat] for example in dataSet]\n",
    "    uniqueVals = set(featValues)\n",
    "    for value in uniqueVals:\n",
    "        subLabels = labels[:]       #copy all of labels, so trees don't mess up existing labels\n",
    "        print('bestFeatlabel/value',bestFeatLabel,value)\n",
    "        myTree[bestFeatLabel][value] = createTree(splitDataSet(dataSet, bestFeat, value),subLabels)\n",
    "        print(myTree)\n",
    "    return myTree"
   ]
  },
  {
   "cell_type": "code",
   "execution_count": 251,
   "metadata": {
    "scrolled": false
   },
   "outputs": [
    {
     "name": "stdout",
     "output_type": "stream",
     "text": [
      "2\n",
      "有自己的房子\n",
      "bestFeatlabel/value 有自己的房子 否\n",
      "1\n",
      "有工作\n",
      "bestFeatlabel/value 有工作 否\n",
      "{'有工作': {'否': '否'}}\n",
      "bestFeatlabel/value 有工作 是\n",
      "{'有工作': {'否': '否', '是': '是'}}\n",
      "{'有自己的房子': {'否': {'有工作': {'否': '否', '是': '是'}}}}\n",
      "bestFeatlabel/value 有自己的房子 是\n",
      "{'有自己的房子': {'否': {'有工作': {'否': '否', '是': '是'}}, '是': '是'}}\n"
     ]
    },
    {
     "data": {
      "text/plain": [
       "{'有自己的房子': {'否': {'有工作': {'否': '否', '是': '是'}}, '是': '是'}}"
      ]
     },
     "execution_count": 251,
     "metadata": {},
     "output_type": "execute_result"
    }
   ],
   "source": [
    "createTree(dataSet,labels) "
   ]
  },
  {
   "cell_type": "code",
   "execution_count": null,
   "metadata": {},
   "outputs": [],
   "source": []
  },
  {
   "cell_type": "code",
   "execution_count": null,
   "metadata": {},
   "outputs": [],
   "source": []
  },
  {
   "cell_type": "code",
   "execution_count": null,
   "metadata": {},
   "outputs": [],
   "source": []
  }
 ],
 "metadata": {
  "kernelspec": {
   "display_name": "Python 3",
   "language": "python",
   "name": "python3"
  },
  "language_info": {
   "codemirror_mode": {
    "name": "ipython",
    "version": 3
   },
   "file_extension": ".py",
   "mimetype": "text/x-python",
   "name": "python",
   "nbconvert_exporter": "python",
   "pygments_lexer": "ipython3",
   "version": "3.6.5"
  }
 },
 "nbformat": 4,
 "nbformat_minor": 2
}
