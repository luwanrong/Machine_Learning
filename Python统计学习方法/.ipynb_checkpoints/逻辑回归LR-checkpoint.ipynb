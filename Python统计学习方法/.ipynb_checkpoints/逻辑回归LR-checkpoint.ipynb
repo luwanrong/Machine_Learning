{
 "cells": [
  {
   "cell_type": "code",
   "execution_count": 85,
   "metadata": {},
   "outputs": [],
   "source": [
    "import pandas as pd\n",
    "import numpy as np\n",
    "from sklearn.model_selection import train_test_split"
   ]
  },
  {
   "cell_type": "code",
   "execution_count": 34,
   "metadata": {},
   "outputs": [],
   "source": [
    "data = pd.read_csv('./iris.data',header=None,names=[u'花萼长度',u'花萼宽度',u'花瓣长度',u'花瓣长宽',u'Label'])\n",
    "data_X = data.iloc[0:100,0:4]\n",
    "data_Y =pd.Categorical(data.iloc[0:100,4]).codes"
   ]
  },
  {
   "cell_type": "code",
   "execution_count": 86,
   "metadata": {},
   "outputs": [],
   "source": [
    "data_X_train,data_X_test,data_Y_train,data_Y_test = train_test_split(data_X,data_Y,test_size = 0.2,random_state = 0) "
   ]
  },
  {
   "cell_type": "code",
   "execution_count": 36,
   "metadata": {},
   "outputs": [
    {
     "data": {
      "text/plain": [
       "array([0, 0, 0, 0, 0, 0, 0, 0, 0, 0, 0, 0, 0, 0, 0, 0, 0, 0, 0, 0, 0, 0,\n",
       "       0, 0, 0, 0, 0, 0, 0, 0, 0, 0, 0, 0, 0, 0, 0, 0, 0, 0, 0, 0, 0, 0,\n",
       "       0, 0, 0, 0, 0, 0, 1, 1, 1, 1, 1, 1, 1, 1, 1, 1, 1, 1, 1, 1, 1, 1,\n",
       "       1, 1, 1, 1, 1, 1, 1, 1, 1, 1, 1, 1, 1, 1, 1, 1, 1, 1, 1, 1, 1, 1,\n",
       "       1, 1, 1, 1, 1, 1, 1, 1, 1, 1, 1, 1], dtype=int8)"
      ]
     },
     "execution_count": 36,
     "metadata": {},
     "output_type": "execute_result"
    }
   ],
   "source": [
    "data_Y"
   ]
  },
  {
   "cell_type": "code",
   "execution_count": 72,
   "metadata": {},
   "outputs": [],
   "source": [
    "def sigmoiod(x):\n",
    "    return 1.0 / (1 + np.exp(-x))\n",
    "def downAscent(alpha,max_cycle,X,Y):\n",
    "    X = np.mat(X)\n",
    "    Y = np.mat(Y).transpose()\n",
    "    #print(X,Y)\n",
    "    m,n = X.shape\n",
    "    weight = np.ones((n,1))#初始化权重为1，形状为n*1\n",
    "    for i in range(max_cycle):\n",
    "        h = sigmoiod(X*weight)\n",
    "        error = (h - Y)\n",
    "        weight = weight - alpha * X.T * error\n",
    "    return weight"
   ]
  },
  {
   "cell_type": "code",
   "execution_count": 87,
   "metadata": {},
   "outputs": [
    {
     "data": {
      "text/plain": [
       "matrix([[-0.77750167],\n",
       "        [-1.23645946],\n",
       "        [ 2.44074736],\n",
       "        [ 1.72571799]])"
      ]
     },
     "execution_count": 87,
     "metadata": {},
     "output_type": "execute_result"
    }
   ],
   "source": [
    "theta = downAscent(0.001,500,data_X_train,data_Y_train)\n",
    "theta"
   ]
  },
  {
   "cell_type": "code",
   "execution_count": 105,
   "metadata": {},
   "outputs": [
    {
     "name": "stdout",
     "output_type": "stream",
     "text": [
      "[[0.97057339]\n",
      " [0.00657552]\n",
      " [0.98358184]\n",
      " [0.00480658]\n",
      " [0.013198  ]\n",
      " [0.04526848]\n",
      " [0.99427654]\n",
      " [0.00478474]\n",
      " [0.00496597]\n",
      " [0.01505519]\n",
      " [0.00749269]\n",
      " [0.01615011]\n",
      " [0.00486313]\n",
      " [0.98515655]\n",
      " [0.98345855]\n",
      " [0.96492944]\n",
      " [0.99473749]\n",
      " [0.95042425]\n",
      " [0.99668903]\n",
      " [0.96247678]]\n"
     ]
    }
   ],
   "source": [
    "A = np.mat(data_X_test)*theta\n",
    "A1 = sigmoiod(-A)\n",
    "print(A1)\n",
    "y_pre = []\n",
    "for i in A1.tolist():\n",
    "    if i[0]>0.5:y_pre.append(1)\n",
    "    else:y_pre.append(0)"
   ]
  },
  {
   "cell_type": "code",
   "execution_count": 103,
   "metadata": {},
   "outputs": [
    {
     "data": {
      "text/plain": [
       "[1, 0, 1, 0, 0, 0, 1, 0, 0, 0, 0, 0, 0, 1, 1, 1, 1, 1, 1, 1]"
      ]
     },
     "execution_count": 103,
     "metadata": {},
     "output_type": "execute_result"
    }
   ],
   "source": [
    "y_pre"
   ]
  },
  {
   "cell_type": "code",
   "execution_count": 104,
   "metadata": {},
   "outputs": [
    {
     "data": {
      "text/plain": [
       "array([0, 1, 0, 1, 1, 1, 0, 1, 1, 1, 1, 1, 1, 0, 0, 0, 0, 0, 0, 0],\n",
       "      dtype=int8)"
      ]
     },
     "execution_count": 104,
     "metadata": {},
     "output_type": "execute_result"
    }
   ],
   "source": [
    "data_Y_test"
   ]
  },
  {
   "cell_type": "code",
   "execution_count": null,
   "metadata": {},
   "outputs": [],
   "source": []
  },
  {
   "cell_type": "code",
   "execution_count": null,
   "metadata": {},
   "outputs": [],
   "source": []
  }
 ],
 "metadata": {
  "kernelspec": {
   "display_name": "Python 3",
   "language": "python",
   "name": "python3"
  },
  "language_info": {
   "codemirror_mode": {
    "name": "ipython",
    "version": 3
   },
   "file_extension": ".py",
   "mimetype": "text/x-python",
   "name": "python",
   "nbconvert_exporter": "python",
   "pygments_lexer": "ipython3",
   "version": "3.6.5"
  }
 },
 "nbformat": 4,
 "nbformat_minor": 2
}
