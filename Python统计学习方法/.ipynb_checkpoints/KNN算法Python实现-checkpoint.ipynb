{
 "cells": [
  {
   "cell_type": "code",
   "execution_count": 3,
   "metadata": {},
   "outputs": [],
   "source": [
    "import numpy as np\n",
    "import numpy\n",
    "import pandas as pd\n",
    "from sklearn.preprocessing import StandardScaler\n",
    "import math"
   ]
  },
  {
   "cell_type": "markdown",
   "metadata": {},
   "source": [
    "###############***********************KNN简单实现****************###############\n",
    "def KNN(test,dataset,label,k):\n",
    "    #计算欧氏距离\n",
    "    dist_ = test - dataset\n",
    "    dist_2 = dist_**2#此处相当于(a,b)-(c,d) = (a-c,b-d)---->((a-c)**2,(b-d)**2)\n",
    "    #按行相加\n",
    "    dist_sum = np.sum(dist_2,axis=1)#得到一个列表\n",
    "    dist = dist_sum**0.5#得到测试点与每个样本点的欧式距离\n",
    "    #将距离从小到达进行排序\n",
    "    dist_sort = np.argsort(dist)#返回索引值\n",
    "    print(type(dist_sort))\n",
    "    print(dist_sort)\n",
    "    #选取最近的k个距离\n",
    "    ls = []\n",
    "    for i in range(k):\n",
    "        ls.append(label[dist_sort[i]])#拿到该索引值对应的标签\n",
    "        \n",
    "    a=0\n",
    "    b=0\n",
    "    c=0\n",
    "    for i in range(k):\n",
    "        if ls[i] == 0:\n",
    "            a+=1\n",
    "        elif ls[i] == 1:\n",
    "            b+=1\n",
    "        elif ls[i] == 2:\n",
    "            c+=1\n",
    "    print(a)\n",
    "    print(b)\n",
    "    print(c)\n",
    "    if a>b and a>c:\n",
    "        labels = 0\n",
    "    \n",
    "    elif b>a and b>c:\n",
    "        labels = 1\n",
    "    elif c>a and c>b:\n",
    "        labels = 2\n",
    "    \n",
    "    return labels\n",
    "    '''\n",
    "    classCount={}\n",
    "    for i in range(k):\n",
    "        voteLabel = label[dist_sort[i]]\n",
    "        ###对选取的K个样本所属的类别个数进行统计\n",
    "        classCount[voteLabel] = classCount.get(voteLabel,0) + 1\n",
    "    maxCount = 0\n",
    "    for key,value in classCount.items():\n",
    "        if value > maxCount:\n",
    "            maxCount = value\n",
    "            classes = key\n",
    "    '''"
   ]
  },
  {
   "cell_type": "code",
   "execution_count": 4,
   "metadata": {},
   "outputs": [],
   "source": [
    "from sklearn.datasets import load_iris\n",
    "from sklearn.model_selection import train_test_split\n",
    "from collections import Counter\n",
    "iris = load_iris()\n",
    "df = pd.DataFrame(iris.data, columns=iris.feature_names)\n",
    "df['label'] = iris.target\n",
    "df.columns = ['sepal length', 'sepal width', 'petal length', 'petal width', 'label']\n",
    "data = np.array(df.iloc[:, [0, 1, -1]])#此处如果没有转换为np.array则会报错\n",
    "X, y = data[:,:-1], data[:,-1]\n",
    "X_train, X_test, y_train, y_test = train_test_split(X, y, test_size=0.3)"
   ]
  },
  {
   "cell_type": "code",
   "execution_count": 5,
   "metadata": {},
   "outputs": [],
   "source": [
    "##**************KNN一般实现*******************##\n",
    "class KNN:\n",
    "    def __init__(self, X_train, y_train, n_neighbors, p):\n",
    "        self.n = n_neighbors\n",
    "        self.p = p#可以用来选择距离度量的方式\n",
    "        self.X_train = X_train\n",
    "        self.y_train = y_train\n",
    "    \n",
    "    def predict(self, X):\n",
    "        # 取出n个点\n",
    "        label_list = []\n",
    "        for d in range(len(X)):\n",
    "            knn_list = []\n",
    "            for i in range(self.n):\n",
    "                dist = np.linalg.norm(X[d] - self.X_train[i], ord=self.p)#求2范数,即欧氏距离\n",
    "                knn_list.append((dist, self.y_train[i]))\n",
    "\n",
    "            for i in range(self.n, len(self.X_train)):\n",
    "                max_index = knn_list.index(max(knn_list, key=lambda x: x[0]))\n",
    "                dist = np.linalg.norm(X[d] - self.X_train[i], ord=self.p)\n",
    "                if knn_list[max_index][0] > dist:\n",
    "                    knn_list[max_index] = (dist, self.y_train[i])\n",
    "            #上面两个循环可以找出距离测试点最近的k个点\n",
    "            # 统计\n",
    "            knn = [k[-1] for k in knn_list]#把最小的距离对应的样本的类别放到knn列表\n",
    "            count_pairs = Counter(knn)#查看每个类别出现的频数\n",
    "            #max_count = sorted(count_pairs, key=lambda x:x)[-1]该语句应该找不出出现次数最多的类别把\n",
    "            count_pair_dict = dict(count_pairs)\n",
    "            max_count = max(count_pair_dict,key = count_pair_dict.get)\n",
    "            label_list.append(max_count)\n",
    "        return label_list\n",
    "    \n",
    "    def score(self, y_pred, y_test):\n",
    "        right_count = 0\n",
    "        for y_pre, y in zip(y_pred, y_test):\n",
    "            if y_pre == y:\n",
    "                right_count += 1\n",
    "        right_rate = right_count/len(y_test)\n",
    "        return right_rate"
   ]
  },
  {
   "cell_type": "code",
   "execution_count": 6,
   "metadata": {},
   "outputs": [
    {
     "data": {
      "text/plain": [
       "array([0., 2., 1., 1., 0., 1., 2., 0., 0., 0., 1., 1., 0., 0., 2., 1., 2.,\n",
       "       2., 1., 2., 0., 1., 0., 0., 1., 0., 2., 0., 1., 0., 1., 2., 2., 1.,\n",
       "       2., 1., 0., 1., 2., 1., 1., 0., 1., 2., 1.])"
      ]
     },
     "execution_count": 6,
     "metadata": {},
     "output_type": "execute_result"
    }
   ],
   "source": [
    "knn = KNN(X_train,y_train,n_neighbors=5,p=2)\n",
    "y_pre = np.array(knn.predict(X_test))\n",
    "y_pre"
   ]
  },
  {
   "cell_type": "code",
   "execution_count": 7,
   "metadata": {},
   "outputs": [
    {
     "data": {
      "text/plain": [
       "0.7111111111111111"
      ]
     },
     "execution_count": 7,
     "metadata": {},
     "output_type": "execute_result"
    }
   ],
   "source": [
    "knn.score(y_pre,y_test)"
   ]
  },
  {
   "cell_type": "markdown",
   "metadata": {},
   "source": [
    "#############**********KD_Tree实现快速搜索*********############"
   ]
  },
  {
   "cell_type": "markdown",
   "metadata": {},
   "source": [
    "def createKDTree(data_list):\n",
    "    #找出方差最大的维度\n",
    "    dimension = len(data_list[0])\n",
    "    #var_list = []#用来存放维度对应的方差\n",
    "    max_var = 0\n",
    "    for i in range(dimension):\n",
    "        dim_list = []#用来存放每一个维度上的值\n",
    "        for d in data_list:#第一次循环，第一个元素的第一个维度上面的值\n",
    "            dim_list.append(d[i])#得到了所欲元素中第一个维度上值的列表\n",
    "        #var1 = np.var((i,dim_list))这样做不好做比较\n",
    "        var = np.var(dim_list)\n",
    "        #print(dim_list)\n",
    "        if var>max_var:\n",
    "            max_var = var\n",
    "            first_split_dim = i\n",
    "            sort_list = np.sort(dim_list)\n",
    "        #print(max_var)\n",
    "        #print(sort_list)\n",
    "        data_list.sort(key=lambda x: x[first_split_dim])#根据first_split_dim维度排序\n",
    "    return data_list,first_split_dim"
   ]
  },
  {
   "cell_type": "code",
   "execution_count": 8,
   "metadata": {},
   "outputs": [],
   "source": [
    "class KD_node:  \n",
    "    def __init__(self, point=None, split=None, LL = None, RR = None):  \n",
    "        \"\"\" \n",
    "        point:数据点 \n",
    "        split:划分域 \n",
    "        LL, RR:节点的左儿子跟右儿子 \n",
    "        \"\"\"  \n",
    "        self.point = point  \n",
    "        self.split = split  \n",
    "        self.left = LL  \n",
    "        self.right = RR  "
   ]
  },
  {
   "cell_type": "code",
   "execution_count": 9,
   "metadata": {},
   "outputs": [],
   "source": [
    "def createKDTree(root,data_list):  \n",
    "    \"\"\" \n",
    "    root:当前树的根节点 \n",
    "    data_list:数据点的集合(无序) \n",
    "    return:构造的KDTree的树根 \n",
    "    \"\"\"  \n",
    "    LEN = len(data_list)  \n",
    "    if LEN == 0:  \n",
    "        return None \n",
    "    #数据点的维度  \n",
    "    dimension = len(data_list[0])  \n",
    "    #方差  \n",
    "    max_var = 0  \n",
    "    #最后选择的划分域  \n",
    "    split = 0;  \n",
    "    for i in range(dimension):  \n",
    "        ll = []  \n",
    "        for t in data_list:  \n",
    "            ll.append(t[i])  \n",
    "        var = np.var(ll)\n",
    "        #print(var)\n",
    "        if var > max_var:  \n",
    "            max_var = var  \n",
    "            split = i\n",
    "            #print(i)\n",
    "    print('每次分割的维度',split)\n",
    "    #根据划分域的数据对数据点进行排序  \n",
    "    data_list.sort(key=lambda x: x[split])  \n",
    "    #print(data_list)\n",
    "    #选择下标为len / 2的点作为分割点  \n",
    "    point = data_list[LEN // 2] \n",
    "\n",
    "    root = KD_node(point, split) \n",
    "    #print(root.point)\n",
    "    #递归调用函数本身\n",
    "    #print(data_list)\n",
    "    root.left = createKDTree(root.left,data_list[0:(LEN // 2)])\n",
    "    #将[[2,3]]判定后，此时data_list = [[2,3]] len = 1 // 2 =0 data_list[0:0] = []\n",
    "    #进行判断len时 就直接return\n",
    "    #LEN = len(data_list)  \n",
    "    #if LEN == 0:  \n",
    "        #return\n",
    "    #print(data_list)\n",
    "    root.right = createKDTree(root.right,data_list[(LEN // 2 + 1):LEN])  \n",
    "    #print(root.left)\n",
    "    #print(root.right)\n",
    "    #print(root.point)\n",
    "    return root #root是一个类对象，因此返回也是一个类对象 "
   ]
  },
  {
   "cell_type": "code",
   "execution_count": 10,
   "metadata": {},
   "outputs": [],
   "source": [
    "x_test=[[2,3],[5,4],[9,6],[4,7],[8,1],[7,2]]\n",
    "root = KD_node()"
   ]
  },
  {
   "cell_type": "code",
   "execution_count": 11,
   "metadata": {},
   "outputs": [
    {
     "name": "stdout",
     "output_type": "stream",
     "text": [
      "每次分割的维度 0\n",
      "每次分割的维度 1\n",
      "每次分割的维度 0\n",
      "每次分割的维度 0\n",
      "每次分割的维度 1\n",
      "每次分割的维度 0\n"
     ]
    }
   ],
   "source": [
    "root1 = createKDTree(root,x_test)"
   ]
  },
  {
   "cell_type": "code",
   "execution_count": 12,
   "metadata": {},
   "outputs": [
    {
     "name": "stdout",
     "output_type": "stream",
     "text": [
      "[7, 2]\n",
      "[5, 4]\n",
      "[2, 3]\n",
      "[4, 7]\n",
      "[9, 6]\n",
      "[8, 1]\n"
     ]
    }
   ],
   "source": [
    "def preorder(root):  \n",
    "    \"\"\" \n",
    "    KDTree的前序遍历 \n",
    "    \"\"\"  \n",
    "    print(root.point)  \n",
    "    if root.left:  \n",
    "        preorder(root.left)  \n",
    "    if root.right:  \n",
    "        preorder(root.right)   \n",
    "preorder(root1)"
   ]
  },
  {
   "cell_type": "code",
   "execution_count": 19,
   "metadata": {},
   "outputs": [],
   "source": [
    "def searchNN(root,test):\n",
    "    '''\n",
    "    root:表示节点\n",
    "    test:表示测试点\n",
    "    '''\n",
    "    #将root初始化为根节点开始判断\n",
    "    point = root.point#得到节点对应的值\n",
    "    print(point)\n",
    "    v = list(map(lambda x:x[0]-x[1],zip(point,test)))\n",
    "    min_dist = np.linalg.norm(v,ord=2)#计算距离\n",
    "    #第一步二分叉树查找\n",
    "    '''\n",
    "    从根节点开始查找，知道叶子节点，记录最小距离和对应的节点值，并记录搜寻过程\n",
    "    '''\n",
    "    nod_list = []#记录搜索节点路径\n",
    "    nod_point_list = []\n",
    "    temp_root = root#先从根节点开始\n",
    "    a = 0\n",
    "    while temp_root:\n",
    "        nod_list.append(temp_root)\n",
    "        nod_point_list.append(temp_root.point)\n",
    "        temp_point = temp_root.point\n",
    "        print(nod_point_list)\n",
    "        v = list(map(lambda x:x[0]-x[1],zip(temp_point,test)))\n",
    "        d = np.linalg.norm(v,ord = 2)\n",
    "        a+=1\n",
    "        if d<min_dist:\n",
    "            min_dist =d\n",
    "            point = temp_point\n",
    "        ss = temp_root.split\n",
    "        print('该节点的分割维度',ss)\n",
    "        if test[ss]<temp_point[ss]:\n",
    "            temp_root = temp_root.left\n",
    "            \n",
    "        else:\n",
    "            temp_root = temp_root.right\n",
    "            \n",
    "        if a==3:\n",
    "            print('打印该节点信息',temp_root)\n",
    "        print(a)\n",
    "    #第二步回溯查找\n",
    "    '''\n",
    "    回溯查找就是递归的往回退，查找该子节点的父节点对应的区域是否还有实例\\\n",
    "    与测试点的距离比当前距离更小\n",
    "    '''\n",
    "    print('**********************************************************')\n",
    "    while nod_list:\n",
    "        #从后往前回退遍历该列表\n",
    "        back_point = nod_list.pop()#可以得到列表的最后一个元素，将钙元素从列表‘删除’\n",
    "        bs = back_point.split\n",
    "        print(bs)\n",
    "        print('查看该结点对应的实例',back_point.point)\n",
    "        if np.abs(test[bs]-back_point.point[bs]) < min_dist:\n",
    "            print(test[bs],back_point.point[bs])\n",
    "            if test[bs] <= back_point.point[bs]:\n",
    "                temp_root = back_point.right\n",
    "            else:\n",
    "                temp_root = back_point.left\n",
    "            print('回溯查找时，查看结点信息',temp_root)\n",
    "        if temp_root:\n",
    "            nod_list.append(temp_root)##?？？？\n",
    "            v = list(map(lambda x:x[0]-x[1],zip(temp_root.point,test)))\n",
    "            current_dist = np.linalg.norm(v,ord = 2)\n",
    "            if current_dist<min_dist:\n",
    "                min_dist = current_dist\n",
    "                point = temp_root.point\n",
    "        print(min_dist)\n",
    "    return min_dist,point"
   ]
  },
  {
   "cell_type": "code",
   "execution_count": 21,
   "metadata": {},
   "outputs": [
    {
     "name": "stdout",
     "output_type": "stream",
     "text": [
      "[7, 2]\n",
      "[[7, 2]]\n",
      "该节点的分割维度 0\n",
      "1\n",
      "[[7, 2], [5, 4]]\n",
      "该节点的分割维度 1\n",
      "2\n",
      "[[7, 2], [5, 4], [4, 7]]\n",
      "该节点的分割维度 0\n",
      "打印该节点信息 None\n",
      "3\n",
      "**********************************************************\n",
      "0\n",
      "查看该结点对应的实例 [4, 7]\n",
      "2.5 4\n",
      "回溯查找时，查看结点信息 None\n",
      "2.5495097567963922\n",
      "1\n",
      "查看该结点对应的实例 [5, 4]\n",
      "4.5 4\n",
      "回溯查找时，查看结点信息 <__main__.KD_node object at 0x0000000009302518>\n",
      "1.5811388300841898\n",
      "0\n",
      "查看该结点对应的实例 [2, 3]\n",
      "2.5 2\n",
      "回溯查找时，查看结点信息 None\n",
      "1.5811388300841898\n",
      "0\n",
      "查看该结点对应的实例 [7, 2]\n",
      "1.5811388300841898\n"
     ]
    },
    {
     "data": {
      "text/plain": [
       "(1.5811388300841898, [2, 3])"
      ]
     },
     "execution_count": 21,
     "metadata": {},
     "output_type": "execute_result"
    }
   ],
   "source": [
    "query = [2.5,4.5]\n",
    "searchNN(root1,query)"
   ]
  },
  {
   "cell_type": "code",
   "execution_count": null,
   "metadata": {},
   "outputs": [],
   "source": []
  },
  {
   "cell_type": "code",
   "execution_count": null,
   "metadata": {},
   "outputs": [],
   "source": []
  },
  {
   "cell_type": "code",
   "execution_count": null,
   "metadata": {},
   "outputs": [],
   "source": []
  }
 ],
 "metadata": {
  "kernelspec": {
   "display_name": "Python 3",
   "language": "python",
   "name": "python3"
  },
  "language_info": {
   "codemirror_mode": {
    "name": "ipython",
    "version": 3
   },
   "file_extension": ".py",
   "mimetype": "text/x-python",
   "name": "python",
   "nbconvert_exporter": "python",
   "pygments_lexer": "ipython3",
   "version": "3.6.5"
  }
 },
 "nbformat": 4,
 "nbformat_minor": 2
}
