{
 "cells": [
  {
   "cell_type": "code",
   "execution_count": 64,
   "metadata": {},
   "outputs": [
    {
     "name": "stdout",
     "output_type": "stream",
     "text": [
      "0.9709505944546686\n"
     ]
    }
   ],
   "source": [
    "# -*- coding: utf-8 -*-\n",
    "import pandas as pd \n",
    "import numpy as np\n",
    "\n",
    "dataSet = [['青年', '否', '否', '一般', '否'],\n",
    "               ['青年', '否', '否', '好', '否'],\n",
    "               ['青年', '是', '否', '好', '是'],\n",
    "               ['青年', '是', '是', '一般', '是'],\n",
    "               ['青年', '否', '否', '一般', '否'],\n",
    "               ['中年', '否', '否', '一般', '否'],\n",
    "               ['中年', '否', '否', '好', '否'],\n",
    "               ['中年', '是', '是', '好', '是'],\n",
    "               ['中年', '否', '是', '非常好', '是'],\n",
    "               ['中年', '否', '是', '非常好', '是'],\n",
    "               ['老年', '否', '是', '非常好', '是'],\n",
    "               ['老年', '否', '是', '好', '是'],\n",
    "               ['老年', '是', '否', '好', '是'],\n",
    "               ['老年', '是', '否', '非常好', '是'],\n",
    "               ['老年', '否', '否', '一般', '否'],\n",
    "               ]\n",
    " \n",
    "labels = [u'年龄', u'有工作', u'有自己的房子', u'信贷情况', u'类别']\n",
    " \n",
    "data = pd.DataFrame(dataSet,columns=labels)\n",
    "data = data.set_index('类别')\n",
    "\n",
    "def Ent(data):\n",
    "    number = len(data)\n",
    "    label = data.index.value_counts()\n",
    "    ent = 0\n",
    "    for x in label:\n",
    "        ent += -(x/number)*np.log2(x/number)\n",
    "    return ent\n",
    " \n",
    "indexEnt= Ent(data)\n",
    "print(indexEnt)\n",
    "def GainEntTree(data,indexEnt):\n",
    "    LabelData=list(data.index)\n",
    "    print(LabelData)\n",
    "    if LabelData.count(LabelData[0])==len(LabelData):\n",
    "        return LabelData[0]#判断类别，其中一个类别的长度等于数据长度，\n",
    "    #说明该数据中就只有这一个类别\n",
    "    if len(data.columns)==0:\n",
    "        return data.index.value_counts().sort_values(ascending=False).index[0]\n",
    "    #返回出现次数最多的类\n",
    "    if len(data.columns)>0:#计算经验条件熵\n",
    "        GainEntlist=[]\n",
    "        columnslist = data.columns#\n",
    "        lendata=len(data)\n",
    "        for i in data.columns:\n",
    "            Gain=[]\n",
    "            ColValueCounts=data[i].value_counts()\n",
    "            ColValueCountsindex=ColValueCounts.index\n",
    "            ColValueCountsvalues=ColValueCounts.values\n",
    "            for j in range(len(ColValueCountsindex)):\n",
    "                D = data[data[i]==ColValueCountsindex[j]].index.value_counts()\n",
    "                ent=sum([-(z/lendata)*np.log2(z/ColValueCountsvalues[j]) for z in D])\n",
    "                Gain.append(ent)\n",
    "            GainEntlist.append(sum(Gain))\n",
    "        GainEntlist=[indexEnt-x for x in GainEntlist]#各特征信息增益列表\n",
    "        print(GainEntlist)\n",
    "        x=dict(zip(columnslist,GainEntlist))#特征名--信息增益 字典\n",
    "        top=sorted(x.items(),key=lambda item:item[1],reverse=True)[0][0]\n",
    "        #获取信息增益最大的列名\n",
    "        myTree={top:{}}\n",
    "        for value in set(data[top]):\n",
    "            print('top',top)\n",
    "            print('value',value)\n",
    "            newdata=data[data[top]==value].drop(top,axis=1)\n",
    "            myTree[top][value]=GainEntTree(newdata,Ent(newdata))\n",
    "        return myTree          "
   ]
  },
  {
   "cell_type": "code",
   "execution_count": 65,
   "metadata": {},
   "outputs": [
    {
     "name": "stdout",
     "output_type": "stream",
     "text": [
      "['否', '否', '是', '是', '否', '否', '否', '是', '是', '是', '是', '是', '是', '是', '否']\n",
      "[0.08300749985576883, 0.32365019815155616, 0.4199730940219748, 0.36298956253708525]\n",
      "top 有自己的房子\n",
      "value 否\n",
      "['否', '否', '是', '否', '否', '否', '是', '是', '否']\n",
      "[0.2516291673878229, 0.9182958340544896, 0.47385138961004514]\n",
      "top 有工作\n",
      "value 否\n",
      "['否', '否', '否', '否', '否', '否']\n",
      "top 有工作\n",
      "value 是\n",
      "['是', '是', '是']\n",
      "top 有自己的房子\n",
      "value 是\n",
      "['是', '是', '是', '是', '是', '是']\n"
     ]
    },
    {
     "data": {
      "text/plain": [
       "{'有自己的房子': {'否': {'有工作': {'否': '否', '是': '是'}}, '是': '是'}}"
      ]
     },
     "execution_count": 65,
     "metadata": {},
     "output_type": "execute_result"
    }
   ],
   "source": [
    "GainEntTree(data,indexEnt)  "
   ]
  },
  {
   "cell_type": "code",
   "execution_count": 30,
   "metadata": {},
   "outputs": [
    {
     "data": {
      "text/plain": [
       "['否', '否', '是', '是', '否', '否', '否', '是', '是', '是', '是', '是', '是', '是', '否']"
      ]
     },
     "execution_count": 30,
     "metadata": {},
     "output_type": "execute_result"
    }
   ],
   "source": [
    "LabelData=list(data.index)\n",
    "LabelData"
   ]
  },
  {
   "cell_type": "code",
   "execution_count": 31,
   "metadata": {},
   "outputs": [
    {
     "data": {
      "text/plain": [
       "6"
      ]
     },
     "execution_count": 31,
     "metadata": {},
     "output_type": "execute_result"
    }
   ],
   "source": [
    "LabelData.count(LabelData[0])"
   ]
  },
  {
   "cell_type": "code",
   "execution_count": 40,
   "metadata": {},
   "outputs": [],
   "source": [
    "b = data.columns"
   ]
  },
  {
   "cell_type": "code",
   "execution_count": 36,
   "metadata": {},
   "outputs": [
    {
     "data": {
      "text/plain": [
       "9"
      ]
     },
     "execution_count": 36,
     "metadata": {},
     "output_type": "execute_result"
    }
   ],
   "source": [
    "data.index.value_counts().sort_values(ascending=False)"
   ]
  },
  {
   "cell_type": "code",
   "execution_count": 41,
   "metadata": {},
   "outputs": [],
   "source": [
    "v = [0.08300749985576883, 0.32365019815155616, 0.4199730940219748, 0.36298956253708525]"
   ]
  },
  {
   "cell_type": "code",
   "execution_count": 47,
   "metadata": {},
   "outputs": [
    {
     "data": {
      "text/plain": [
       "[('年龄', 0.08300749985576883),\n",
       " ('有工作', 0.32365019815155616),\n",
       " ('有自己的房子', 0.4199730940219748),\n",
       " ('信贷情况', 0.36298956253708525)]"
      ]
     },
     "execution_count": 47,
     "metadata": {},
     "output_type": "execute_result"
    }
   ],
   "source": [
    "list(zip(b,v))"
   ]
  },
  {
   "cell_type": "code",
   "execution_count": 43,
   "metadata": {},
   "outputs": [
    {
     "data": {
      "text/plain": [
       "{'年龄': 0.08300749985576883,\n",
       " '有工作': 0.32365019815155616,\n",
       " '有自己的房子': 0.4199730940219748,\n",
       " '信贷情况': 0.36298956253708525}"
      ]
     },
     "execution_count": 43,
     "metadata": {},
     "output_type": "execute_result"
    }
   ],
   "source": [
    "x"
   ]
  },
  {
   "cell_type": "code",
   "execution_count": 45,
   "metadata": {},
   "outputs": [],
   "source": [
    "top=sorted(x.items(),key=lambda item:item[1],reverse=True)[0][0]"
   ]
  },
  {
   "cell_type": "code",
   "execution_count": 46,
   "metadata": {},
   "outputs": [
    {
     "data": {
      "text/plain": [
       "'有自己的房子'"
      ]
     },
     "execution_count": 46,
     "metadata": {},
     "output_type": "execute_result"
    }
   ],
   "source": [
    "top"
   ]
  },
  {
   "cell_type": "code",
   "execution_count": 48,
   "metadata": {},
   "outputs": [],
   "source": [
    "myTree={top:{}}"
   ]
  },
  {
   "cell_type": "code",
   "execution_count": 53,
   "metadata": {},
   "outputs": [],
   "source": [
    "myTree[top]={'aa':1}"
   ]
  },
  {
   "cell_type": "code",
   "execution_count": 54,
   "metadata": {},
   "outputs": [
    {
     "data": {
      "text/plain": [
       "{'有自己的房子': {'aa': 1}}"
      ]
     },
     "execution_count": 54,
     "metadata": {},
     "output_type": "execute_result"
    }
   ],
   "source": [
    "myTree"
   ]
  },
  {
   "cell_type": "code",
   "execution_count": 62,
   "metadata": {},
   "outputs": [
    {
     "data": {
      "text/html": [
       "<div>\n",
       "<style scoped>\n",
       "    .dataframe tbody tr th:only-of-type {\n",
       "        vertical-align: middle;\n",
       "    }\n",
       "\n",
       "    .dataframe tbody tr th {\n",
       "        vertical-align: top;\n",
       "    }\n",
       "\n",
       "    .dataframe thead th {\n",
       "        text-align: right;\n",
       "    }\n",
       "</style>\n",
       "<table border=\"1\" class=\"dataframe\">\n",
       "  <thead>\n",
       "    <tr style=\"text-align: right;\">\n",
       "      <th></th>\n",
       "      <th>年龄</th>\n",
       "      <th>有工作</th>\n",
       "      <th>有自己的房子</th>\n",
       "      <th>信贷情况</th>\n",
       "    </tr>\n",
       "    <tr>\n",
       "      <th>类别</th>\n",
       "      <th></th>\n",
       "      <th></th>\n",
       "      <th></th>\n",
       "      <th></th>\n",
       "    </tr>\n",
       "  </thead>\n",
       "  <tbody>\n",
       "    <tr>\n",
       "      <th>否</th>\n",
       "      <td>青年</td>\n",
       "      <td>否</td>\n",
       "      <td>否</td>\n",
       "      <td>一般</td>\n",
       "    </tr>\n",
       "    <tr>\n",
       "      <th>否</th>\n",
       "      <td>青年</td>\n",
       "      <td>否</td>\n",
       "      <td>否</td>\n",
       "      <td>好</td>\n",
       "    </tr>\n",
       "    <tr>\n",
       "      <th>是</th>\n",
       "      <td>青年</td>\n",
       "      <td>是</td>\n",
       "      <td>否</td>\n",
       "      <td>好</td>\n",
       "    </tr>\n",
       "    <tr>\n",
       "      <th>否</th>\n",
       "      <td>青年</td>\n",
       "      <td>否</td>\n",
       "      <td>否</td>\n",
       "      <td>一般</td>\n",
       "    </tr>\n",
       "    <tr>\n",
       "      <th>否</th>\n",
       "      <td>中年</td>\n",
       "      <td>否</td>\n",
       "      <td>否</td>\n",
       "      <td>一般</td>\n",
       "    </tr>\n",
       "    <tr>\n",
       "      <th>否</th>\n",
       "      <td>中年</td>\n",
       "      <td>否</td>\n",
       "      <td>否</td>\n",
       "      <td>好</td>\n",
       "    </tr>\n",
       "    <tr>\n",
       "      <th>是</th>\n",
       "      <td>老年</td>\n",
       "      <td>是</td>\n",
       "      <td>否</td>\n",
       "      <td>好</td>\n",
       "    </tr>\n",
       "    <tr>\n",
       "      <th>是</th>\n",
       "      <td>老年</td>\n",
       "      <td>是</td>\n",
       "      <td>否</td>\n",
       "      <td>非常好</td>\n",
       "    </tr>\n",
       "    <tr>\n",
       "      <th>否</th>\n",
       "      <td>老年</td>\n",
       "      <td>否</td>\n",
       "      <td>否</td>\n",
       "      <td>一般</td>\n",
       "    </tr>\n",
       "  </tbody>\n",
       "</table>\n",
       "</div>"
      ],
      "text/plain": [
       "    年龄 有工作 有自己的房子 信贷情况\n",
       "类别                    \n",
       "否   青年   否      否   一般\n",
       "否   青年   否      否    好\n",
       "是   青年   是      否    好\n",
       "否   青年   否      否   一般\n",
       "否   中年   否      否   一般\n",
       "否   中年   否      否    好\n",
       "是   老年   是      否    好\n",
       "是   老年   是      否  非常好\n",
       "否   老年   否      否   一般"
      ]
     },
     "execution_count": 62,
     "metadata": {},
     "output_type": "execute_result"
    }
   ],
   "source": [
    "data[data['有自己的房子']=='否']"
   ]
  },
  {
   "cell_type": "code",
   "execution_count": 61,
   "metadata": {},
   "outputs": [
    {
     "data": {
      "text/html": [
       "<div>\n",
       "<style scoped>\n",
       "    .dataframe tbody tr th:only-of-type {\n",
       "        vertical-align: middle;\n",
       "    }\n",
       "\n",
       "    .dataframe tbody tr th {\n",
       "        vertical-align: top;\n",
       "    }\n",
       "\n",
       "    .dataframe thead th {\n",
       "        text-align: right;\n",
       "    }\n",
       "</style>\n",
       "<table border=\"1\" class=\"dataframe\">\n",
       "  <thead>\n",
       "    <tr style=\"text-align: right;\">\n",
       "      <th></th>\n",
       "      <th>年龄</th>\n",
       "      <th>有工作</th>\n",
       "      <th>信贷情况</th>\n",
       "    </tr>\n",
       "    <tr>\n",
       "      <th>类别</th>\n",
       "      <th></th>\n",
       "      <th></th>\n",
       "      <th></th>\n",
       "    </tr>\n",
       "  </thead>\n",
       "  <tbody>\n",
       "    <tr>\n",
       "      <th>否</th>\n",
       "      <td>青年</td>\n",
       "      <td>否</td>\n",
       "      <td>一般</td>\n",
       "    </tr>\n",
       "    <tr>\n",
       "      <th>否</th>\n",
       "      <td>青年</td>\n",
       "      <td>否</td>\n",
       "      <td>好</td>\n",
       "    </tr>\n",
       "    <tr>\n",
       "      <th>是</th>\n",
       "      <td>青年</td>\n",
       "      <td>是</td>\n",
       "      <td>好</td>\n",
       "    </tr>\n",
       "    <tr>\n",
       "      <th>否</th>\n",
       "      <td>青年</td>\n",
       "      <td>否</td>\n",
       "      <td>一般</td>\n",
       "    </tr>\n",
       "    <tr>\n",
       "      <th>否</th>\n",
       "      <td>中年</td>\n",
       "      <td>否</td>\n",
       "      <td>一般</td>\n",
       "    </tr>\n",
       "    <tr>\n",
       "      <th>否</th>\n",
       "      <td>中年</td>\n",
       "      <td>否</td>\n",
       "      <td>好</td>\n",
       "    </tr>\n",
       "    <tr>\n",
       "      <th>是</th>\n",
       "      <td>老年</td>\n",
       "      <td>是</td>\n",
       "      <td>好</td>\n",
       "    </tr>\n",
       "    <tr>\n",
       "      <th>是</th>\n",
       "      <td>老年</td>\n",
       "      <td>是</td>\n",
       "      <td>非常好</td>\n",
       "    </tr>\n",
       "    <tr>\n",
       "      <th>否</th>\n",
       "      <td>老年</td>\n",
       "      <td>否</td>\n",
       "      <td>一般</td>\n",
       "    </tr>\n",
       "  </tbody>\n",
       "</table>\n",
       "</div>"
      ],
      "text/plain": [
       "    年龄 有工作 信贷情况\n",
       "类别             \n",
       "否   青年   否   一般\n",
       "否   青年   否    好\n",
       "是   青年   是    好\n",
       "否   青年   否   一般\n",
       "否   中年   否   一般\n",
       "否   中年   否    好\n",
       "是   老年   是    好\n",
       "是   老年   是  非常好\n",
       "否   老年   否   一般"
      ]
     },
     "execution_count": 61,
     "metadata": {},
     "output_type": "execute_result"
    }
   ],
   "source": [
    "data[data['有自己的房子']=='否'].drop('有自己的房子',axis = 1)"
   ]
  },
  {
   "cell_type": "code",
   "execution_count": 63,
   "metadata": {},
   "outputs": [
    {
     "ename": "KeyError",
     "evalue": "'否'",
     "output_type": "error",
     "traceback": [
      "\u001b[1;31m---------------------------------------------------------------------------\u001b[0m",
      "\u001b[1;31mKeyError\u001b[0m                                  Traceback (most recent call last)",
      "\u001b[1;32m<ipython-input-63-b3949c8a72ba>\u001b[0m in \u001b[0;36m<module>\u001b[1;34m()\u001b[0m\n\u001b[1;32m----> 1\u001b[1;33m \u001b[0mmyTree\u001b[0m\u001b[1;33m[\u001b[0m\u001b[1;34m'有自己的房子'\u001b[0m\u001b[1;33m]\u001b[0m\u001b[1;33m[\u001b[0m\u001b[1;34m'否'\u001b[0m\u001b[1;33m]\u001b[0m\u001b[1;33m\u001b[0m\u001b[0m\n\u001b[0m",
      "\u001b[1;31mKeyError\u001b[0m: '否'"
     ]
    }
   ],
   "source": []
  },
  {
   "cell_type": "code",
   "execution_count": null,
   "metadata": {},
   "outputs": [],
   "source": []
  }
 ],
 "metadata": {
  "kernelspec": {
   "display_name": "Python 3",
   "language": "python",
   "name": "python3"
  },
  "language_info": {
   "codemirror_mode": {
    "name": "ipython",
    "version": 3
   },
   "file_extension": ".py",
   "mimetype": "text/x-python",
   "name": "python",
   "nbconvert_exporter": "python",
   "pygments_lexer": "ipython3",
   "version": "3.6.5"
  }
 },
 "nbformat": 4,
 "nbformat_minor": 2
}
