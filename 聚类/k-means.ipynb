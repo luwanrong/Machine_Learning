{
 "cells": [
  {
   "cell_type": "code",
   "execution_count": 1,
   "metadata": {},
   "outputs": [],
   "source": [
    "import numpy as np\n",
    "import pandas as pd \n",
    "from sklearn.datasets import make_blobs#产生聚类算法的模拟数据\n",
    "from sklearn.cluster import KMeans"
   ]
  },
  {
   "cell_type": "code",
   "execution_count": 28,
   "metadata": {},
   "outputs": [
    {
     "data": {
      "text/plain": [
       "array([2, 3, 1, ..., 0, 3, 1])"
      ]
     },
     "execution_count": 28,
     "metadata": {},
     "output_type": "execute_result"
    }
   ],
   "source": [
    "# 1 产生模拟数据make_blob()\n",
    "#n_samples是待生成的样本的总数。\n",
    "#n_features是每个样本的特征数。\n",
    "#centers表示类别数。\n",
    "#cluster_std表示每个类别的方差，例如我们希望生成2类数据，其中一类比另一类具有更大的方差，可以将cluster_std设置为[1.0,3.0]。\n",
    "\n",
    "#返回值2个\n",
    "#1.1生成的样本数据集。 \n",
    "\n",
    "#2.2样本数据集的标签。\n",
    "X,Y = make_blobs(n_samples=2000,n_features=3,centers=4,random_state=0)\n",
    "Y"
   ]
  },
  {
   "cell_type": "code",
   "execution_count": 20,
   "metadata": {},
   "outputs": [
    {
     "data": {
      "text/plain": [
       "KMeans(algorithm='auto', copy_x=True, init='random', max_iter=400,\n",
       "    n_clusters=4, n_init=10, n_jobs=1, precompute_distances='auto',\n",
       "    random_state=0, tol=0.0001, verbose=0)"
      ]
     },
     "execution_count": 20,
     "metadata": {},
     "output_type": "execute_result"
    }
   ],
   "source": [
    "# 构建模型 \n",
    "km = KMeans(n_clusters=4,max_iter= 400,init='random',random_state=0)\n",
    "#KMeans()参数解释\n",
    "'''\n",
    "1.n_clusters 聚类的数目 即产生的质心数\n",
    "2.max_iter 执行一次k-means算法的最大迭代次数，k-means算法 的迭代过程：给定质心坐标，计算所有样本到\n",
    "质心坐标的距离，然后移动质心坐标 在计算样本到质心坐标的距离，直到找到最好的\n",
    "3.n_init用不同的质心初始化值 运行算法的次数。第一次 的质心坐标是随机给的\n",
    "4.init  执行初始化质心的方式’k-means++’， ‘random’，或者传递一个ndarray向量\n",
    "5.precompute_distance 预计算距离 三个可选值，‘auto’，True 或者 False\n",
    "一般 选择‘auto’如果样本数 *  聚类数> 12million 则不预计算，也就是false\n",
    "\n",
    "其他参数  用到时 在查询tol，n_jobs，copy_x：\n",
    "\n",
    "'''\n",
    "km.fit(X)"
   ]
  },
  {
   "cell_type": "code",
   "execution_count": 21,
   "metadata": {},
   "outputs": [],
   "source": [
    "y_pre = km.predict(X)"
   ]
  },
  {
   "cell_type": "code",
   "execution_count": 22,
   "metadata": {},
   "outputs": [
    {
     "data": {
      "text/plain": [
       "-5718.664069490822"
      ]
     },
     "execution_count": 22,
     "metadata": {},
     "output_type": "execute_result"
    }
   ],
   "source": [
    "km.score(X)#样本点到其簇中心的距离之和 的相反数"
   ]
  },
  {
   "cell_type": "code",
   "execution_count": 23,
   "metadata": {},
   "outputs": [
    {
     "name": "stdout",
     "output_type": "stream",
     "text": [
      "簇中心坐标：\n",
      "[[-1.24244014  7.83967363  9.21825877]\n",
      " [-2.40147224  5.88015134  0.62973665]\n",
      " [ 0.95948665  4.29519314  1.98661316]\n",
      " [ 0.90193297 -1.57623651  2.87903628]]\n"
     ]
    }
   ],
   "source": [
    "#KMeans() 的方法\n",
    "print('簇中心坐标：')\n",
    "print(km.cluster_centers_)"
   ]
  },
  {
   "cell_type": "code",
   "execution_count": 24,
   "metadata": {},
   "outputs": [
    {
     "name": "stdout",
     "output_type": "stream",
     "text": [
      "每个样本的分类：\n",
      "[0 1 3 ... 2 2 3]\n"
     ]
    }
   ],
   "source": [
    "print('每个样本的分类：')\n",
    "print(km.labels_)"
   ]
  },
  {
   "cell_type": "code",
   "execution_count": 29,
   "metadata": {},
   "outputs": [
    {
     "name": "stdout",
     "output_type": "stream",
     "text": [
      "每一个点到其簇中心的距离之和：\n",
      "5718.66406949082\n"
     ]
    }
   ],
   "source": [
    "print('每一个点到其簇中心的距离之和：')\n",
    "print(km.inertia_)"
   ]
  },
  {
   "cell_type": "code",
   "execution_count": null,
   "metadata": {},
   "outputs": [],
   "source": []
  }
 ],
 "metadata": {
  "kernelspec": {
   "display_name": "Python 3",
   "language": "python",
   "name": "python3"
  },
  "language_info": {
   "codemirror_mode": {
    "name": "ipython",
    "version": 3
   },
   "file_extension": ".py",
   "mimetype": "text/x-python",
   "name": "python",
   "nbconvert_exporter": "python",
   "pygments_lexer": "ipython3",
   "version": "3.6.5"
  }
 },
 "nbformat": 4,
 "nbformat_minor": 2
}
