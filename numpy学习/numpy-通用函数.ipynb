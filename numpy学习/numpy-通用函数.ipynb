{
 "cells": [
  {
   "cell_type": "code",
   "execution_count": 41,
   "metadata": {},
   "outputs": [
    {
     "data": {
      "text/plain": [
       "array([0.25      , 0.14285714, 0.14285714, 1.        , 0.11111111,\n",
       "       0.2       ])"
      ]
     },
     "execution_count": 41,
     "metadata": {},
     "output_type": "execute_result"
    }
   ],
   "source": [
    "import numpy as np\n",
    "np.random.seed(5)\n",
    "def daoshu1(arr):\n",
    "    output = np.empty(len(arr))\n",
    "    for i in range(len(arr)):\n",
    "        output[i] = 1.0 / arr[i]\n",
    "    return output\n",
    "arr = np.random.randint(1,10,size=6)\n",
    "daoshu1(arr)"
   ]
  }
 ],
 "metadata": {
  "kernelspec": {
   "display_name": "Python 3",
   "language": "python",
   "name": "python3"
  },
  "language_info": {
   "codemirror_mode": {
    "name": "ipython",
    "version": 3
   },
   "file_extension": ".py",
   "mimetype": "text/x-python",
   "name": "python",
   "nbconvert_exporter": "python",
   "pygments_lexer": "ipython3",
   "version": "3.6.5"
  }
 },
 "nbformat": 4,
 "nbformat_minor": 2
}
